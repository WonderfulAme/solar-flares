{
  "cells": [
    {
      "cell_type": "markdown",
      "id": "5b86e72d",
      "metadata": {
        "id": "5b86e72d"
      },
      "source": [
        "# Solar Flares"
      ]
    },
    {
      "cell_type": "code",
      "execution_count": 4,
      "id": "9cfa4f0c",
      "metadata": {
        "colab": {
          "base_uri": "https://localhost:8080/"
        },
        "id": "9cfa4f0c",
        "outputId": "66a29115-88e9-4873-dadc-bd77f177f091"
      },
      "outputs": [
        {
          "output_type": "stream",
          "name": "stdout",
          "text": [
            "Hello Word!\n",
            "Hello there!\n",
            "Jupyter\n",
            "Colab\n"
          ]
        }
      ],
      "source": [
        "print(\"Hello Word!\")\n",
        "print(\"Hello there!\")\n",
        "print(\"Jupyter\")\n",
        "print(\"Colab\")"
      ]
    }
  ],
  "metadata": {
    "colab": {
      "provenance": []
    },
    "kernelspec": {
      "display_name": "Python 3 (ipykernel)",
      "language": "python",
      "name": "python3"
    },
    "language_info": {
      "codemirror_mode": {
        "name": "ipython",
        "version": 3
      },
      "file_extension": ".py",
      "mimetype": "text/x-python",
      "name": "python",
      "nbconvert_exporter": "python",
      "pygments_lexer": "ipython3",
      "version": "3.11.5"
    }
  },
  "nbformat": 4,
  "nbformat_minor": 5
}
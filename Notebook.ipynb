{
 "cells": [
  {
   "cell_type": "markdown",
   "id": "5b86e72d",
   "metadata": {
    "id": "5b86e72d"
   },
   "source": [
    "# Solar Flares"
   ]
  },
  {
   "cell_type": "code",
   "execution_count": 2,
   "id": "9cfa4f0c",
   "metadata": {
    "colab": {
     "base_uri": "https://localhost:8080/"
    },
    "id": "9cfa4f0c",
    "outputId": "66a29115-88e9-4873-dadc-bd77f177f091"
   },
   "outputs": [],
   "source": [
    "# Third party libraries\n",
    "import numpy as np\n",
    "import pandas as pd\n",
    "import matplotlib as plt"
   ]
  },
  {
   "cell_type": "code",
   "execution_count": 32,
   "id": "320165ae",
   "metadata": {},
   "outputs": [
    {
     "data": {
      "text/html": [
       "<div>\n",
       "<style scoped>\n",
       "    .dataframe tbody tr th:only-of-type {\n",
       "        vertical-align: middle;\n",
       "    }\n",
       "\n",
       "    .dataframe tbody tr th {\n",
       "        vertical-align: top;\n",
       "    }\n",
       "\n",
       "    .dataframe thead th {\n",
       "        text-align: right;\n",
       "    }\n",
       "</style>\n",
       "<table border=\"1\" class=\"dataframe\">\n",
       "  <thead>\n",
       "    <tr style=\"text-align: right;\">\n",
       "      <th></th>\n",
       "      <th>Flare</th>\n",
       "      <th>Date</th>\n",
       "      <th>Start time</th>\n",
       "      <th>Peak time</th>\n",
       "      <th>End time</th>\n",
       "      <th>Duration</th>\n",
       "      <th>Peak counts</th>\n",
       "      <th>Total counts</th>\n",
       "      <th>Energy</th>\n",
       "      <th>X pos</th>\n",
       "      <th>Y pos</th>\n",
       "      <th>Radial</th>\n",
       "      <th>Active region</th>\n",
       "      <th>Flag 1</th>\n",
       "      <th>Flag 2</th>\n",
       "      <th>Flag 3</th>\n",
       "      <th>Flag 4</th>\n",
       "      <th>Flag 5</th>\n",
       "    </tr>\n",
       "  </thead>\n",
       "  <tbody>\n",
       "    <tr>\n",
       "      <th>9389</th>\n",
       "      <td>2122447</td>\n",
       "      <td>2002-12-24</td>\n",
       "      <td>19:02:32</td>\n",
       "      <td>19:04:10</td>\n",
       "      <td>19:05:44</td>\n",
       "      <td>192</td>\n",
       "      <td>56</td>\n",
       "      <td>45264.0</td>\n",
       "      <td>6-12</td>\n",
       "      <td>938</td>\n",
       "      <td>-257</td>\n",
       "      <td>973</td>\n",
       "      <td>224</td>\n",
       "      <td>A0</td>\n",
       "      <td>P1</td>\n",
       "      <td>NaN</td>\n",
       "      <td>NaN</td>\n",
       "      <td>NaN</td>\n",
       "    </tr>\n",
       "    <tr>\n",
       "      <th>107372</th>\n",
       "      <td>15061034</td>\n",
       "      <td>2015-06-10</td>\n",
       "      <td>18:12:48</td>\n",
       "      <td>18:13:46</td>\n",
       "      <td>18:22:04</td>\n",
       "      <td>556</td>\n",
       "      <td>560</td>\n",
       "      <td>525096.0</td>\n",
       "      <td>12-25</td>\n",
       "      <td>-902</td>\n",
       "      <td>-336</td>\n",
       "      <td>963</td>\n",
       "      <td>0</td>\n",
       "      <td>A0</td>\n",
       "      <td>P1</td>\n",
       "      <td>PE</td>\n",
       "      <td>Q1</td>\n",
       "      <td>NaN</td>\n",
       "    </tr>\n",
       "    <tr>\n",
       "      <th>43286</th>\n",
       "      <td>6040621</td>\n",
       "      <td>2006-04-06</td>\n",
       "      <td>04:59:36</td>\n",
       "      <td>05:01:50</td>\n",
       "      <td>05:05:40</td>\n",
       "      <td>364</td>\n",
       "      <td>1</td>\n",
       "      <td>1205.0</td>\n",
       "      <td>6-12</td>\n",
       "      <td>780</td>\n",
       "      <td>-70</td>\n",
       "      <td>783</td>\n",
       "      <td>865</td>\n",
       "      <td>A0</td>\n",
       "      <td>DF</td>\n",
       "      <td>P1</td>\n",
       "      <td>Q1</td>\n",
       "      <td>NaN</td>\n",
       "    </tr>\n",
       "    <tr>\n",
       "      <th>19363</th>\n",
       "      <td>3081463</td>\n",
       "      <td>2003-08-14</td>\n",
       "      <td>02:08:48</td>\n",
       "      <td>02:18:42</td>\n",
       "      <td>02:50:00</td>\n",
       "      <td>2472</td>\n",
       "      <td>2032</td>\n",
       "      <td>8882016.0</td>\n",
       "      <td>12-25</td>\n",
       "      <td>-210</td>\n",
       "      <td>-296</td>\n",
       "      <td>363</td>\n",
       "      <td>431</td>\n",
       "      <td>A0</td>\n",
       "      <td>DF</td>\n",
       "      <td>P1</td>\n",
       "      <td>Q1</td>\n",
       "      <td>NaN</td>\n",
       "    </tr>\n",
       "    <tr>\n",
       "      <th>33413</th>\n",
       "      <td>4110155</td>\n",
       "      <td>2004-11-01</td>\n",
       "      <td>09:02:24</td>\n",
       "      <td>09:02:54</td>\n",
       "      <td>09:04:16</td>\n",
       "      <td>112</td>\n",
       "      <td>16</td>\n",
       "      <td>8760.0</td>\n",
       "      <td>6-12</td>\n",
       "      <td>935</td>\n",
       "      <td>190</td>\n",
       "      <td>954</td>\n",
       "      <td>687</td>\n",
       "      <td>A0</td>\n",
       "      <td>P1</td>\n",
       "      <td>NaN</td>\n",
       "      <td>NaN</td>\n",
       "      <td>NaN</td>\n",
       "    </tr>\n",
       "  </tbody>\n",
       "</table>\n",
       "</div>"
      ],
      "text/plain": [
       "           Flare        Date Start time Peak time  End time  Duration  \\\n",
       "9389     2122447  2002-12-24   19:02:32  19:04:10  19:05:44       192   \n",
       "107372  15061034  2015-06-10   18:12:48  18:13:46  18:22:04       556   \n",
       "43286    6040621  2006-04-06   04:59:36  05:01:50  05:05:40       364   \n",
       "19363    3081463  2003-08-14   02:08:48  02:18:42  02:50:00      2472   \n",
       "33413    4110155  2004-11-01   09:02:24  09:02:54  09:04:16       112   \n",
       "\n",
       "        Peak counts  Total counts Energy  X pos  Y pos  Radial  Active region  \\\n",
       "9389             56       45264.0   6-12    938   -257     973            224   \n",
       "107372          560      525096.0  12-25   -902   -336     963              0   \n",
       "43286             1        1205.0   6-12    780    -70     783            865   \n",
       "19363          2032     8882016.0  12-25   -210   -296     363            431   \n",
       "33413            16        8760.0   6-12    935    190     954            687   \n",
       "\n",
       "       Flag 1 Flag 2 Flag 3 Flag 4 Flag 5  \n",
       "9389       A0     P1    NaN    NaN    NaN  \n",
       "107372     A0     P1     PE     Q1    NaN  \n",
       "43286      A0     DF     P1     Q1    NaN  \n",
       "19363      A0     DF     P1     Q1    NaN  \n",
       "33413      A0     P1    NaN    NaN    NaN  "
      ]
     },
     "execution_count": 32,
     "metadata": {},
     "output_type": "execute_result"
    }
   ],
   "source": [
    "column_names = [\"Flare\", \"Date\", \"Start time\", \"Peak time\", \"End time\", \"Duration\", \"Peak counts\", \n",
    "                \"Total counts\", \"Energy\", \"X pos\", \"Y pos\", \"Radial\", \"Active region\", \n",
    "                \"Flag 1\", \"Flag 2\", \"Flag 3\", \"Flag 4\", \"Flag 5\"]\n",
    "\n",
    "df = pd.read_csv(\"hessi.solar.flare.UP_To_2018.csv\",names=column_names, header = 0)\n",
    "\n",
    "df.sample(5)"
   ]
  },
  {
   "cell_type": "code",
   "execution_count": 38,
   "id": "62fe7390",
   "metadata": {},
   "outputs": [
    {
     "data": {
      "text/plain": [
       "{'Flare': 28,\n",
       " 'Date': 59,\n",
       " 'Start time': 57,\n",
       " 'Peak time': 57,\n",
       " 'End time': 57,\n",
       " 'Duration': 28,\n",
       " 'Peak counts': 28,\n",
       " 'Total counts': 24,\n",
       " 'Energy': 59,\n",
       " 'X pos': 28,\n",
       " 'Y pos': 28,\n",
       " 'Radial': 28,\n",
       " 'Active region': 28,\n",
       " 'Flag 1': 51,\n",
       " 'Flag 2': 51,\n",
       " 'Flag 3': 51,\n",
       " 'Flag 4': 51,\n",
       " 'Flag 5': 69}"
      ]
     },
     "execution_count": 38,
     "metadata": {},
     "output_type": "execute_result"
    }
   ],
   "source": [
    "import sys\n",
    "sys.getsizeof(df[\"Flare\"][0])\n",
    "def max_bytes_per_column(df):\n",
    "    max_bytes = {}\n",
    "    for col in df.columns:\n",
    "        max_size = df[col].apply(lambda x: sys.getsizeof(x)).max()\n",
    "        max_bytes[col] = max_size\n",
    "    return max_bytes\n",
    "\n",
    "max_bytes_per_column(df)\n"
   ]
  },
  {
   "cell_type": "code",
   "execution_count": 36,
   "id": "ee15f52e",
   "metadata": {},
   "outputs": [
    {
     "data": {
      "text/plain": [
       "32"
      ]
     },
     "execution_count": 36,
     "metadata": {},
     "output_type": "execute_result"
    }
   ],
   "source": []
  }
 ],
 "metadata": {
  "colab": {
   "provenance": []
  },
  "kernelspec": {
   "display_name": "Python 3 (ipykernel)",
   "language": "python",
   "name": "python3"
  },
  "language_info": {
   "codemirror_mode": {
    "name": "ipython",
    "version": 3
   },
   "file_extension": ".py",
   "mimetype": "text/x-python",
   "name": "python",
   "nbconvert_exporter": "python",
   "pygments_lexer": "ipython3",
   "version": "3.11.5"
  }
 },
 "nbformat": 4,
 "nbformat_minor": 5
}

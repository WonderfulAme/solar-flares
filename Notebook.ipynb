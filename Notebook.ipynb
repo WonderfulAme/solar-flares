{
 "cells": [
  {
   "cell_type": "markdown",
   "id": "5b86e72d",
   "metadata": {
    "id": "5b86e72d"
   },
   "source": [
    "# Solar Flares"
   ]
  },
  {
   "cell_type": "code",
   "execution_count": 1,
   "id": "9cfa4f0c",
   "metadata": {
    "colab": {
     "base_uri": "https://localhost:8080/"
    },
    "id": "9cfa4f0c",
    "outputId": "e6af0355-8a06-4af9-87f8-d86a5eabcd44"
   },
   "outputs": [
    {
     "name": "stdout",
     "output_type": "stream",
     "text": [
      "Hello Word!\n",
      "Hello there!\n",
      "Jupyter\n"
     ]
    }
   ],
   "source": [
    "print(\"Hello Word!\")\n",
    "print(\"Hello there!\")\n",
    "print(\"Jupyter\")"
   ]
  }
 ],
 "metadata": {
  "colab": {
   "provenance": []
  },
  "kernelspec": {
   "display_name": "Python 3 (ipykernel)",
   "language": "python",
   "name": "python3"
  },
  "language_info": {
   "codemirror_mode": {
    "name": "ipython",
    "version": 3
   },
   "file_extension": ".py",
   "mimetype": "text/x-python",
   "name": "python",
   "nbconvert_exporter": "python",
   "pygments_lexer": "ipython3",
   "version": "3.11.5"
  }
 },
 "nbformat": 4,
 "nbformat_minor": 5
}

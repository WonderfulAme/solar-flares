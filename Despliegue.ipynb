{
 "cells": [
  {
   "cell_type": "markdown",
   "metadata": {},
   "source": [
    "# Despliegue\n",
    "\n",
    "Vamos a realizar el despliegue, en donde a partir de nuestro modelo, se puede predecir con cierto grado de error establecido"
   ]
  },
  {
   "cell_type": "code",
   "execution_count": 1,
   "metadata": {},
   "outputs": [],
   "source": [
    "import pandas as pd\n",
    "from sklearn.preprocessing import OrdinalEncoder\n",
    "from sklearn.cluster import DBSCAN\n",
    "\n",
    "import matplotlib.pyplot as plt\n",
    "import astropy.units as u\n",
    "from astropy.coordinates import SkyCoord\n",
    "import sunpy.data.sample\n",
    "import sunpy.map\n",
    "\n",
    "import numpy as np\n",
    "from ipywidgets import widgets\n",
    "from IPython.display import display, Image, HTML\n",
    "\n",
    "from ipywidgets  import interact, interactive, interact_manual , interactive_output, fixed"
   ]
  },
  {
   "cell_type": "markdown",
   "metadata": {},
   "source": [
    "## Cargar Datos"
   ]
  },
  {
   "cell_type": "code",
   "execution_count": 2,
   "metadata": {},
   "outputs": [
    {
     "name": "stderr",
     "output_type": "stream",
     "text": [
      "C:\\Users\\usuario\\AppData\\Local\\Temp\\ipykernel_27736\\746000528.py:21: SettingWithCopyWarning: \n",
      "A value is trying to be set on a copy of a slice from a DataFrame.\n",
      "Try using .loc[row_indexer,col_indexer] = value instead\n",
      "\n",
      "See the caveats in the documentation: https://pandas.pydata.org/pandas-docs/stable/user_guide/indexing.html#returning-a-view-versus-a-copy\n",
      "  df['Solar cycle'] = ((df['Date'].dt.year - 2008) % 11) + 1\n",
      "C:\\Users\\usuario\\AppData\\Local\\Temp\\ipykernel_27736\\746000528.py:28: FutureWarning: DataFrame.groupby with axis=1 is deprecated. Do `frame.T.groupby(...)` without axis instead.\n",
      "  flags = flag_dummies.groupby(flag_dummies.columns.str[-2:], axis=1).sum().astype(bool)\n"
     ]
    },
    {
     "data": {
      "text/html": [
       "<div>\n",
       "<style scoped>\n",
       "    .dataframe tbody tr th:only-of-type {\n",
       "        vertical-align: middle;\n",
       "    }\n",
       "\n",
       "    .dataframe tbody tr th {\n",
       "        vertical-align: top;\n",
       "    }\n",
       "\n",
       "    .dataframe thead th {\n",
       "        text-align: right;\n",
       "    }\n",
       "</style>\n",
       "<table border=\"1\" class=\"dataframe\">\n",
       "  <thead>\n",
       "    <tr style=\"text-align: right;\">\n",
       "      <th></th>\n",
       "      <th>Flare number</th>\n",
       "      <th>Solar cycle</th>\n",
       "      <th>Peak counts</th>\n",
       "      <th>Total counts</th>\n",
       "      <th>Energy</th>\n",
       "      <th>X pos</th>\n",
       "      <th>Y pos</th>\n",
       "      <th>Radial</th>\n",
       "      <th>PE</th>\n",
       "      <th>Duration</th>\n",
       "      <th>Time till peak</th>\n",
       "      <th>Time till next peak</th>\n",
       "    </tr>\n",
       "  </thead>\n",
       "  <tbody>\n",
       "    <tr>\n",
       "      <th>0</th>\n",
       "      <td>13</td>\n",
       "      <td>6</td>\n",
       "      <td>136</td>\n",
       "      <td>167304.0</td>\n",
       "      <td>2.0</td>\n",
       "      <td>592</td>\n",
       "      <td>-358</td>\n",
       "      <td>692</td>\n",
       "      <td>False</td>\n",
       "      <td>712</td>\n",
       "      <td>222.0</td>\n",
       "      <td>688.0</td>\n",
       "    </tr>\n",
       "    <tr>\n",
       "      <th>1</th>\n",
       "      <td>28</td>\n",
       "      <td>6</td>\n",
       "      <td>7</td>\n",
       "      <td>9504.0</td>\n",
       "      <td>1.0</td>\n",
       "      <td>604</td>\n",
       "      <td>-341</td>\n",
       "      <td>694</td>\n",
       "      <td>True</td>\n",
       "      <td>288</td>\n",
       "      <td>58.0</td>\n",
       "      <td>11388.0</td>\n",
       "    </tr>\n",
       "    <tr>\n",
       "      <th>2</th>\n",
       "      <td>32</td>\n",
       "      <td>6</td>\n",
       "      <td>15</td>\n",
       "      <td>11448.0</td>\n",
       "      <td>1.0</td>\n",
       "      <td>-310</td>\n",
       "      <td>375</td>\n",
       "      <td>487</td>\n",
       "      <td>False</td>\n",
       "      <td>216</td>\n",
       "      <td>90.0</td>\n",
       "      <td>12536.0</td>\n",
       "    </tr>\n",
       "    <tr>\n",
       "      <th>3</th>\n",
       "      <td>8</td>\n",
       "      <td>6</td>\n",
       "      <td>20</td>\n",
       "      <td>17400.0</td>\n",
       "      <td>2.0</td>\n",
       "      <td>-277</td>\n",
       "      <td>378</td>\n",
       "      <td>469</td>\n",
       "      <td>False</td>\n",
       "      <td>244</td>\n",
       "      <td>58.0</td>\n",
       "      <td>9684.0</td>\n",
       "    </tr>\n",
       "    <tr>\n",
       "      <th>4</th>\n",
       "      <td>10</td>\n",
       "      <td>6</td>\n",
       "      <td>336</td>\n",
       "      <td>313392.0</td>\n",
       "      <td>3.0</td>\n",
       "      <td>-272</td>\n",
       "      <td>390</td>\n",
       "      <td>476</td>\n",
       "      <td>True</td>\n",
       "      <td>236</td>\n",
       "      <td>82.0</td>\n",
       "      <td>240.0</td>\n",
       "    </tr>\n",
       "  </tbody>\n",
       "</table>\n",
       "</div>"
      ],
      "text/plain": [
       "   Flare number  Solar cycle  Peak counts  Total counts  Energy  X pos  Y pos  \\\n",
       "0            13            6          136      167304.0     2.0    592   -358   \n",
       "1            28            6            7        9504.0     1.0    604   -341   \n",
       "2            32            6           15       11448.0     1.0   -310    375   \n",
       "3             8            6           20       17400.0     2.0   -277    378   \n",
       "4            10            6          336      313392.0     3.0   -272    390   \n",
       "\n",
       "   Radial     PE  Duration  Time till peak  Time till next peak  \n",
       "0     692  False       712           222.0                688.0  \n",
       "1     694   True       288            58.0              11388.0  \n",
       "2     487  False       216            90.0              12536.0  \n",
       "3     469  False       244            58.0               9684.0  \n",
       "4     476   True       236            82.0                240.0  "
      ]
     },
     "execution_count": 2,
     "metadata": {},
     "output_type": "execute_result"
    }
   ],
   "source": [
    "\n",
    "column_names = [\"Flare\", \"Date\", \"Start time\", \"Peak time\", \"End time\", \"Duration\", \"Peak counts\", \n",
    "                    \"Total counts\", \"Energy\", \"X pos\", \"Y pos\", \"Radial\", \"Active region\", \n",
    "                    \"Flag 1\", \"Flag 2\", \"Flag 3\", \"Flag 4\", \"Flag 5\"]\n",
    "\n",
    "df = pd.read_csv(\"hessi.solar.flare.UP_To_2018.csv\",names=column_names, header = 0)\n",
    "#df = pd.read_csv(\"hessi.solar.flare.UP_To_2018.csv\",names=column_names, header = 0)\n",
    "\n",
    "def preparar_caracteristicas(df):       \n",
    "    # Deal with datetime format\n",
    "    df['Start time'] = pd.to_datetime(df['Date'] + ' ' + df['Start time'])\n",
    "    df['Peak time'] = pd.to_datetime(df['Date'] + ' ' + df['Peak time'])\n",
    "    df['End time'] = pd.to_datetime(df['Date'] + ' ' + df['End time'])\n",
    "    df['Date'] = pd.to_datetime(df['Date'])\n",
    "    df.loc[df['Start time'] >= df['End time'], 'End time'] += pd.Timedelta(days=1)\n",
    "    df.loc[df['Start time'] >= df['Peak time'], 'Peak time'] += pd.Timedelta(days=1)\n",
    "    \n",
    "    df.sort_values(by='Start time', inplace=True)\n",
    "    df['Time till next peak'] = (df['Peak time'].shift(-1) - df['Peak time']).dt.total_seconds()\n",
    "    df = df.iloc[:-1]\n",
    "    \n",
    "    df['Solar cycle'] = ((df['Date'].dt.year - 2008) % 11) + 1\n",
    "    \n",
    "    split_values = df['Flag 5'].str.split(' ', expand=True).add_prefix('FlagN ')\n",
    "    df = pd.concat([df, split_values], axis = 1)\n",
    "    flags = df.filter(like = \"Flag\")\n",
    "    flags = flags.drop(\"Flag 5\", axis = 1)\n",
    "    flag_dummies = pd.get_dummies(flags, prefix=\"Flag\")\n",
    "    flags = flag_dummies.groupby(flag_dummies.columns.str[-2:], axis=1).sum().astype(bool)\n",
    "    flags[\"A\"] = flags.apply(lambda x: \"A0\" if x[\"A0\"] == 1 else (\"A1\" if x[\"A1\"] == 1 else \"A3\"), axis=1)\n",
    "    flags[\"Q\"] = flags.apply(lambda x: \"Q1\" if x[\"Q1\"] == 1 else (\"Q2\" if x[\"Q2\"] == 1 else (\"Q3\" if x[\"Q3\"] == 1 else (\"Q4\" if x[\"Q4\"] == 1 else (\"Q5\" if x[\"Q5\"] == 1 else (\"Q6\" if x[\"Q6\"] == 1 else \"Q7\"))))), axis=1)\n",
    "    flags.drop(columns=[\"A1\", \"A0\", \"A3\",\"Q1\", \"Q2\", \"Q3\", \"Q4\", \"Q5\", \"Q6\", \"Q7\"], inplace=True)\n",
    "    df = pd.concat([df, flags], axis=1)\n",
    "    df = df.filter(regex=\"^(?!.*Flag)\")\n",
    "    \n",
    "    df[df[\"Flare\"].duplicated(keep = False)]\n",
    "    \n",
    "    df.loc[:, \"Flare number\"] = df[\"Flare\"].apply(lambda x: int(str(x)[-2:])) # Ver punto siguiente\n",
    "    df[\"Time till peak\"] = (df['Peak time'] - df['Start time']).dt.total_seconds()\n",
    "    data = df[~(df[\"DF\"] & df[\"DR\"]) & ~df[\"NS\"] & ~(df[\"GD\"] & df[\"GE\"] & df[\"GS\"]) & ~df[\"PS\"] & ~(df[\"EE\"] & df[\"ES\"]) & ~(df[\"SS\"] & df[\"SD\"] & df[\"SE\"])]\n",
    "    data.reset_index(drop=True, inplace=True)\n",
    "    \n",
    "    data = data[[\"Flare number\", \"Solar cycle\", \"Peak counts\", \"Total counts\", \"Energy\", \"X pos\", \"Y pos\",\"Radial\", \"PE\", \"Duration\", \"Time till peak\",\"Time till next peak\"]]\n",
    "    \n",
    "    data.head()\n",
    "    column = data[[\"Energy\"]]\n",
    "    order = [\"3-6\", \"6-12\",\"12-25\", \"25-50\", \"50-100\", \"100-300\", \"300-800\", \"800-7000\", \"7000-20000\"]\n",
    "    enc = OrdinalEncoder(categories=[order])\n",
    "    label_encoding = enc.fit_transform(column)\n",
    "    data[\"Energy\"] = pd.DataFrame(label_encoding)\n",
    "    \n",
    "    return data\n",
    "\n",
    "data = preparar_caracteristicas(df)\n",
    "data.head()"
   ]
  },
  {
   "cell_type": "code",
   "execution_count": 3,
   "metadata": {},
   "outputs": [
    {
     "name": "stdout",
     "output_type": "stream",
     "text": [
      "Shape of data : (92927, 12)\n",
      "Type of data : <class 'pandas.core.frame.DataFrame'>\n",
      "Total number of outliers : 68341\n"
     ]
    },
    {
     "data": {
      "text/html": [
       "<div>\n",
       "<style scoped>\n",
       "    .dataframe tbody tr th:only-of-type {\n",
       "        vertical-align: middle;\n",
       "    }\n",
       "\n",
       "    .dataframe tbody tr th {\n",
       "        vertical-align: top;\n",
       "    }\n",
       "\n",
       "    .dataframe thead th {\n",
       "        text-align: right;\n",
       "    }\n",
       "</style>\n",
       "<table border=\"1\" class=\"dataframe\">\n",
       "  <thead>\n",
       "    <tr style=\"text-align: right;\">\n",
       "      <th></th>\n",
       "      <th>Flare number</th>\n",
       "      <th>Solar cycle</th>\n",
       "      <th>Peak counts</th>\n",
       "      <th>Total counts</th>\n",
       "      <th>Energy</th>\n",
       "      <th>X pos</th>\n",
       "      <th>Y pos</th>\n",
       "      <th>Radial</th>\n",
       "      <th>PE</th>\n",
       "      <th>Duration</th>\n",
       "      <th>Time till peak</th>\n",
       "      <th>Time till next peak</th>\n",
       "    </tr>\n",
       "  </thead>\n",
       "  <tbody>\n",
       "    <tr>\n",
       "      <th>0</th>\n",
       "      <td>33</td>\n",
       "      <td>6</td>\n",
       "      <td>52</td>\n",
       "      <td>30840.0</td>\n",
       "      <td>1.0</td>\n",
       "      <td>-637</td>\n",
       "      <td>-216</td>\n",
       "      <td>672</td>\n",
       "      <td>False</td>\n",
       "      <td>196</td>\n",
       "      <td>58.0</td>\n",
       "      <td>772.0</td>\n",
       "    </tr>\n",
       "    <tr>\n",
       "      <th>1</th>\n",
       "      <td>34</td>\n",
       "      <td>6</td>\n",
       "      <td>28</td>\n",
       "      <td>37416.0</td>\n",
       "      <td>1.0</td>\n",
       "      <td>-606</td>\n",
       "      <td>-220</td>\n",
       "      <td>645</td>\n",
       "      <td>False</td>\n",
       "      <td>356</td>\n",
       "      <td>134.0</td>\n",
       "      <td>712.0</td>\n",
       "    </tr>\n",
       "    <tr>\n",
       "      <th>2</th>\n",
       "      <td>35</td>\n",
       "      <td>6</td>\n",
       "      <td>18</td>\n",
       "      <td>22128.0</td>\n",
       "      <td>1.0</td>\n",
       "      <td>-729</td>\n",
       "      <td>-99</td>\n",
       "      <td>736</td>\n",
       "      <td>False</td>\n",
       "      <td>276</td>\n",
       "      <td>42.0</td>\n",
       "      <td>744.0</td>\n",
       "    </tr>\n",
       "    <tr>\n",
       "      <th>3</th>\n",
       "      <td>26</td>\n",
       "      <td>6</td>\n",
       "      <td>36</td>\n",
       "      <td>30168.0</td>\n",
       "      <td>2.0</td>\n",
       "      <td>-538</td>\n",
       "      <td>-219</td>\n",
       "      <td>581</td>\n",
       "      <td>True</td>\n",
       "      <td>244</td>\n",
       "      <td>234.0</td>\n",
       "      <td>1036.0</td>\n",
       "    </tr>\n",
       "    <tr>\n",
       "      <th>4</th>\n",
       "      <td>28</td>\n",
       "      <td>6</td>\n",
       "      <td>15</td>\n",
       "      <td>35232.0</td>\n",
       "      <td>1.0</td>\n",
       "      <td>965</td>\n",
       "      <td>-227</td>\n",
       "      <td>992</td>\n",
       "      <td>False</td>\n",
       "      <td>552</td>\n",
       "      <td>134.0</td>\n",
       "      <td>588.0</td>\n",
       "    </tr>\n",
       "  </tbody>\n",
       "</table>\n",
       "</div>"
      ],
      "text/plain": [
       "   Flare number  Solar cycle  Peak counts  Total counts  Energy  X pos  Y pos  \\\n",
       "0            33            6           52       30840.0     1.0   -637   -216   \n",
       "1            34            6           28       37416.0     1.0   -606   -220   \n",
       "2            35            6           18       22128.0     1.0   -729    -99   \n",
       "3            26            6           36       30168.0     2.0   -538   -219   \n",
       "4            28            6           15       35232.0     1.0    965   -227   \n",
       "\n",
       "   Radial     PE  Duration  Time till peak  Time till next peak  \n",
       "0     672  False       196            58.0                772.0  \n",
       "1     645  False       356           134.0                712.0  \n",
       "2     736  False       276            42.0                744.0  \n",
       "3     581   True       244           234.0               1036.0  \n",
       "4     992  False       552           134.0                588.0  "
      ]
     },
     "execution_count": 3,
     "metadata": {},
     "output_type": "execute_result"
    }
   ],
   "source": [
    "def remover_outliers(data):\n",
    "    data = data[data[\"Radial\"]< 1865]\n",
    "    data_outliers = data.copy()\n",
    "    print(f\"Shape of data : {data_outliers.shape}\")\n",
    "    print(f\"Type of data : {type(data_outliers)}\")\n",
    "    # Create DBSCAN model with parameters\n",
    "    model = DBSCAN(eps=300,min_samples=5) #### Estos parametros son los que se tendrían que ajustar \n",
    "    # (radio de cada anillo y número mínimo de muestras en el anillo para que sean válidos)\n",
    "    # Fit model to data\n",
    "    model.fit(data_outliers)\n",
    "    # Printing total number of outliers\n",
    "    print(f\"Total number of outliers : {sum(model.labels_ == -1)}\")\n",
    "    # Outliers \n",
    "    outliers_index = model.labels_ == -1\n",
    "    data_no_outliers = data_outliers[~outliers_index]\n",
    "    data_no_outliers.reset_index(drop=True, inplace=True)\n",
    "    data = data_no_outliers.copy()\n",
    "    \n",
    "    data = data[data[\"Time till next peak\"] < 7500]\n",
    "    return data\n",
    "\n",
    "data = remover_outliers(data)\n",
    "data.head()"
   ]
  },
  {
   "cell_type": "code",
   "execution_count": 4,
   "metadata": {},
   "outputs": [
    {
     "data": {
      "text/plain": [
       "(24581, 12)"
      ]
     },
     "execution_count": 4,
     "metadata": {},
     "output_type": "execute_result"
    }
   ],
   "source": [
    "data.shape"
   ]
  },
  {
   "cell_type": "code",
   "execution_count": 5,
   "metadata": {},
   "outputs": [
    {
     "data": {
      "text/plain": [
       "2.0"
      ]
     },
     "execution_count": 5,
     "metadata": {},
     "output_type": "execute_result"
    }
   ],
   "source": [
    "data[\"Time till peak\"].min()"
   ]
  },
  {
   "cell_type": "code",
   "execution_count": 6,
   "metadata": {},
   "outputs": [
    {
     "data": {
      "text/plain": [
       "array([1., 2., 3., 4., 5.])"
      ]
     },
     "execution_count": 6,
     "metadata": {},
     "output_type": "execute_result"
    }
   ],
   "source": [
    "data[\"Energy\"].unique()"
   ]
  },
  {
   "cell_type": "markdown",
   "metadata": {},
   "source": [
    "## Importe de modelo"
   ]
  },
  {
   "cell_type": "code",
   "execution_count": 7,
   "metadata": {},
   "outputs": [],
   "source": [
    "import pickle as pk\n",
    "\n",
    "#Cargar el modelo\n",
    "\n",
    "with open('modelo_guardar.pkl', 'rb') as modelo:\n",
    "    modelo_cargado = pk.load(modelo)"
   ]
  },
  {
   "cell_type": "code",
   "execution_count": null,
   "metadata": {},
   "outputs": [],
   "source": [
    "from "
   ]
  },
  {
   "cell_type": "code",
   "execution_count": 8,
   "metadata": {},
   "outputs": [
    {
     "data": {
      "text/html": [
       "<div>\n",
       "<style scoped>\n",
       "    .dataframe tbody tr th:only-of-type {\n",
       "        vertical-align: middle;\n",
       "    }\n",
       "\n",
       "    .dataframe tbody tr th {\n",
       "        vertical-align: top;\n",
       "    }\n",
       "\n",
       "    .dataframe thead th {\n",
       "        text-align: right;\n",
       "    }\n",
       "</style>\n",
       "<table border=\"1\" class=\"dataframe\">\n",
       "  <thead>\n",
       "    <tr style=\"text-align: right;\">\n",
       "      <th></th>\n",
       "      <th>Flare number</th>\n",
       "      <th>Solar cycle</th>\n",
       "      <th>Peak counts</th>\n",
       "      <th>Total counts</th>\n",
       "      <th>Energy</th>\n",
       "      <th>X pos</th>\n",
       "      <th>Y pos</th>\n",
       "      <th>Radial</th>\n",
       "      <th>PE</th>\n",
       "      <th>Duration</th>\n",
       "      <th>Time till peak</th>\n",
       "    </tr>\n",
       "  </thead>\n",
       "  <tbody>\n",
       "    <tr>\n",
       "      <th>0</th>\n",
       "      <td>1</td>\n",
       "      <td>4</td>\n",
       "      <td>1000</td>\n",
       "      <td>125</td>\n",
       "      <td>2</td>\n",
       "      <td>0</td>\n",
       "      <td>0</td>\n",
       "      <td>340</td>\n",
       "      <td>True</td>\n",
       "      <td>123</td>\n",
       "      <td>100</td>\n",
       "    </tr>\n",
       "  </tbody>\n",
       "</table>\n",
       "</div>"
      ],
      "text/plain": [
       "   Flare number  Solar cycle  Peak counts  Total counts  Energy  X pos  Y pos  \\\n",
       "0             1            4         1000           125       2      0      0   \n",
       "\n",
       "   Radial    PE  Duration  Time till peak  \n",
       "0     340  True       123             100  "
      ]
     },
     "execution_count": 8,
     "metadata": {},
     "output_type": "execute_result"
    }
   ],
   "source": [
    "#Valor a predecir:\n",
    "Flare_number = 1\n",
    "Solar_cycle = 4\n",
    "Peak_counts = 1000\n",
    "Total_counts = 125\n",
    "Energy = 2\n",
    "X_pos = 0\n",
    "Y_pos = 0\n",
    "Radial = 340\n",
    "PE = True\n",
    "Duration = 123\n",
    "Time_till_peak = 100\n",
    "\n",
    "dato_a_predecir = pd.DataFrame([[Flare_number, Solar_cycle, Peak_counts, Total_counts, Energy, X_pos, Y_pos, Radial, PE, Duration, Time_till_peak]], columns = [\"Flare number\", \"Solar cycle\", \"Peak counts\", \"Total counts\", \"Energy\", \"X pos\", \"Y pos\", \"Radial\", \"PE\", \"Duration\", \"Time till peak\"])\n",
    "prediccion = modelo_cargado.predict(dato_a_predecir)\n",
    "\n",
    "dato_a_predecir"
   ]
  },
  {
   "cell_type": "code",
   "execution_count": 9,
   "metadata": {},
   "outputs": [
    {
     "data": {
      "text/plain": [
       "array([480.43017506])"
      ]
     },
     "execution_count": 9,
     "metadata": {},
     "output_type": "execute_result"
    }
   ],
   "source": [
    "prediccion"
   ]
  },
  {
   "cell_type": "code",
   "execution_count": 10,
   "metadata": {},
   "outputs": [],
   "source": [
    "def predecirT(Flare_number, Solar_cycle, Peak_counts, Total_counts, Energy, X_pos, Y_pos, Radial, PE, Duration, Time_till_peak):\n",
    "    dato_a_predecir = pd.DataFrame([[Flare_number, Solar_cycle, Peak_counts, Total_counts, Energy, X_pos, Y_pos, Radial, PE, Duration, Time_till_peak]], columns = [\"Flare number\", \"Solar cycle\", \"Peak counts\", \"Total counts\", \"Energy\", \"X pos\", \"Y pos\", \"Radial\", \"PE\", \"Duration\", \"Time till peak\"])\n",
    "    prediccion = modelo_cargado.predict(dato_a_predecir)\n",
    "    print(\"El tiempo estimado para la siguiente llamarada solar son: \", prediccion[0])\n",
    "    return prediccion[0]"
   ]
  },
  {
   "cell_type": "code",
   "execution_count": 11,
   "metadata": {},
   "outputs": [
    {
     "data": {
      "application/vnd.jupyter.widget-view+json": {
       "model_id": "53a038230c1c415da15c5c641e0dceeb",
       "version_major": 2,
       "version_minor": 0
      },
      "text/plain": [
       "Output()"
      ]
     },
     "execution_count": 11,
     "metadata": {},
     "output_type": "execute_result"
    }
   ],
   "source": [
    "ss =  widgets.Output()\n",
    "\n",
    "with ss:\n",
    "    display(HTML(\"<h1>Modelo de predicción de tiempo entre llamaradas</h1>\"))\n",
    "\n",
    "ss"
   ]
  },
  {
   "cell_type": "code",
   "execution_count": null,
   "metadata": {},
   "outputs": [],
   "source": []
  },
  {
   "cell_type": "code",
   "execution_count": 12,
   "metadata": {},
   "outputs": [],
   "source": [
    "#Title =  widgets.Label(value = \"Hola mundo\", layout = widgets.Layout(width = \"auto\", justify_content = \"center\", border = \"2px dashed black\"))\n",
    "Title =  widgets.Output()\n",
    "Title.clear_output()\n",
    "with Title:\n",
    "    display(HTML(\"<h1>Modelo de predicción de tiempo entre llamaradas</h1>\"))\n",
    "Title.layout = {\"justify_content\" : \"center\"}\n",
    "\n",
    "\n",
    "w1 = widgets.IntSlider(value= 30, min = 0, max = 100)\n",
    "w2 = widgets.IntSlider(value= 3, min = 1, max = 11)\n",
    "w3 = widgets.IntSlider(value= 200, min = 0, max = 500)\n",
    "w4 = widgets.IntSlider(value= 200, min = 0, max = 180000)\n",
    "w5 = widgets.Dropdown(options = [(\"(3 - 6)\", 1), (\"(6 - 12)\", 2),(\"(12 - 25)\", 3),(\"(25 - 50)\", 4),(\"(50 - 100)\", 5),(\"(100 - 300)\", 6),\n",
    "                                 (\"(300 - 800)\", 7),(\"(800 - 7000)\", 8)]) #Cambiar por lista desplegable\n",
    "w6 = widgets.IntSlider(value= 0, min = -1024, max = 1083)\n",
    "w7 = widgets.IntSlider(value= 0, min = -625, max = 596)\n",
    "w8 = widgets.IntSlider(value= 200, min = 0, max = 1110)\n",
    "w9 = widgets.Checkbox()#Tue o false\n",
    "w10 = widgets.IntSlider(value= 200, min = 1, max = 900)\n",
    "w11 = widgets.IntSlider(value= 200, min = 1, max = 450)\n",
    "ws = [w1,w2,w3,w4,w5,w6,w7,w8,w9,w10,w11]\n",
    "\n",
    "n1 =  widgets.Label(value = \"Número de llamarada en el dia\", layout = widgets.Layout(width = \"auto\"))\n",
    "n2 =  widgets.Label(value = \"Año del ciclo solar\", layout = widgets.Layout(width = \"auto\"))\n",
    "n3 =  widgets.Label(value = \"Tasa de conteos de radiación por segundo\", layout = widgets.Layout(width = \"auto\"))\n",
    "n4 =  widgets.Label(value = \"Número total de conteos durante la llamarada\", layout = widgets.Layout(width = \"auto\"))\n",
    "n5 =  widgets.Label(value = \"Rango de energia (KeV)\", layout = widgets.Layout(width = \"auto\"))\n",
    "n6 =  widgets.Label(value = \"Posición del destello en segundos de arco desde el centro del sol (X)\", layout = widgets.Layout(width = \"auto\"))\n",
    "n7 =  widgets.Label(value = \"Posición del destello en segundos de arco desde el centro del sol (Y)\", layout = widgets.Layout(width = \"auto\"))\n",
    "n8 =  widgets.Label(value = \"Distancia radial en segundos de arco desde el centro del sol\", layout = widgets.Layout(width = \"auto\"))\n",
    "n9 =  widgets.Label(value = \"Sucedió un evento partículas\", layout = widgets.Layout(width = \"auto\"))\n",
    "n10 =  widgets.Label(value = \"Duración del destello en segundos\", layout = widgets.Layout(width = \"auto\"))\n",
    "n11 =  widgets.Label(value = \"Tiempo hasta el pico en el dia\", layout = widgets.Layout(width = \"auto\"))\n",
    "ns = [n1,n2,n3,n4,n5,n6,n7,n8,n9,n10,n11]\n",
    "\n",
    "tipo = \"Es un modelo de: \" + str(type(modelo_cargado))\n",
    "info1 = widgets.Label(value = tipo , layout = widgets.Layout(width = \"auto\"))\n",
    "info2 = widgets.Label(value = \"Tiene un error de: \" , layout = widgets.Layout(width = \"auto\")) #FALTA POR PONER\n",
    "\n",
    "info = widgets.VBox([info1,info2])\n",
    "\n",
    "foto = widgets.Output()\n",
    "foto.clear_output()\n",
    "with foto:\n",
    "    display(Image(filename = \"aia_1600_image.jpg\"))\n",
    "\n",
    "vars = {\"Flare_number\": w1, \"Solar_cycle\" : w2, \"Peak_counts\" : w3, \"Total_counts\": w4, \"Energy\" :w5, \"X_pos\": w6,\"Y_pos\":w7, \"Radial\": w8,\n",
    "        \"PE\": w9, \"Duration\": w10,\"Time_till_peak\":w11}\n",
    "\n",
    "gui2 = interactive_output(predecirT, vars)\n",
    "gui2.layout = {\"border\" : \"2px dashed red\", \"justify_content\" : \"center\"}"
   ]
  },
  {
   "cell_type": "code",
   "execution_count": 13,
   "metadata": {},
   "outputs": [],
   "source": [
    "def graficar_sol(x,y):\n",
    "    pos_1_x = x + 400\n",
    "    pos_1_y = y + 400\n",
    "    pos_2_x = x - 400\n",
    "    pos_2_y = y - 400\n",
    "    \n",
    "    swap_map = sunpy.map.Map(sunpy.data.sample.SWAP_LEVEL1_IMAGE)\n",
    "\n",
    "    top_right = SkyCoord(pos_1_x * u.arcsec, pos_1_y * u.arcsec, frame=swap_map.coordinate_frame)\n",
    "    bottom_left = SkyCoord(pos_2_x * u.arcsec, pos_2_y * u.arcsec, frame=swap_map.coordinate_frame)\n",
    "    swap_submap = swap_map.submap(bottom_left, top_right=top_right)\n",
    "\n",
    "    fig = plt.figure()\n",
    "    ax = fig.add_subplot(projection=swap_submap)\n",
    "    image = swap_submap.plot(axes=ax)\n",
    "    swap_submap.draw_limb(axes=ax)\n",
    "    swap_submap.draw_grid(axes=ax)\n",
    "\n",
    "    # Make some room and put the title at the top of the figure\n",
    "    ax.set_position([0.1, 0.1, 0.8, 0.7])\n",
    "    ax.set_title(\"Gráfico del sol\", pad=45)\n",
    "    \n",
    "    plt.show()\n",
    "\n",
    "graf = interactive_output(graficar_sol, {\"x\" : w6, \"y\" : w7})"
   ]
  },
  {
   "cell_type": "code",
   "execution_count": 17,
   "metadata": {},
   "outputs": [
    {
     "data": {
      "application/vnd.jupyter.widget-view+json": {
       "model_id": "360c8c5651e549f19a96f950957cbd65",
       "version_major": 2,
       "version_minor": 0
      },
      "text/plain": [
       "GridspecLayout(children=(Output(layout=Layout(grid_area='widget001', justify_content='center'), outputs=({'out…"
      ]
     },
     "execution_count": 17,
     "metadata": {},
     "output_type": "execute_result"
    }
   ],
   "source": [
    "grid = widgets.GridspecLayout(n_rows = 12, n_columns = 3, grid_gap = \"2px\")\n",
    "grid[0,:] = Title\n",
    "grid[1,2] = gui2\n",
    "grid[2,2] = info\n",
    "grid[3:,2] = foto\n",
    "#grid[3:,2] = graf\n",
    "\n",
    "for i in range(len(ns)):\n",
    "    grid[i+1,0] = ns[i]\n",
    "    grid[i+1,1] = ws[i]\n",
    "     \n",
    "grid"
   ]
  }
 ],
 "metadata": {
  "kernelspec": {
   "display_name": "base",
   "language": "python",
   "name": "python3"
  },
  "language_info": {
   "codemirror_mode": {
    "name": "ipython",
    "version": 3
   },
   "file_extension": ".py",
   "mimetype": "text/x-python",
   "name": "python",
   "nbconvert_exporter": "python",
   "pygments_lexer": "ipython3",
   "version": "3.11.5"
  }
 },
 "nbformat": 4,
 "nbformat_minor": 2
}

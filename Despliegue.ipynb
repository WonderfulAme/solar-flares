{
 "cells": [
  {
   "cell_type": "markdown",
   "metadata": {},
   "source": [
    "# Despliegue\n",
    "\n",
    "Vamos a realizar el despliegue, en donde a partir de nuestro modelo, se puede predecir con cierto grado de error establecido"
   ]
  },
  {
   "cell_type": "code",
   "execution_count": 3,
   "metadata": {},
   "outputs": [
    {
     "name": "stdout",
     "output_type": "stream",
     "text": [
      "^C\n"
     ]
    },
    {
     "ename": "ImportError",
     "evalue": "cannot import name 'BaseBodycentricRepresentation' from 'astropy.coordinates' (C:\\Users\\ameli\\anaconda3\\Lib\\site-packages\\astropy\\coordinates\\__init__.py)",
     "output_type": "error",
     "traceback": [
      "\u001b[1;31m---------------------------------------------------------------------------\u001b[0m",
      "\u001b[1;31mImportError\u001b[0m                               Traceback (most recent call last)",
      "Cell \u001b[1;32mIn[3], line 9\u001b[0m\n\u001b[0;32m      7\u001b[0m \u001b[38;5;28;01mimport\u001b[39;00m \u001b[38;5;21;01mastropy\u001b[39;00m\u001b[38;5;21;01m.\u001b[39;00m\u001b[38;5;21;01munits\u001b[39;00m \u001b[38;5;28;01mas\u001b[39;00m \u001b[38;5;21;01mu\u001b[39;00m\n\u001b[0;32m      8\u001b[0m \u001b[38;5;28;01mfrom\u001b[39;00m \u001b[38;5;21;01mastropy\u001b[39;00m\u001b[38;5;21;01m.\u001b[39;00m\u001b[38;5;21;01mcoordinates\u001b[39;00m \u001b[38;5;28;01mimport\u001b[39;00m SkyCoord\n\u001b[1;32m----> 9\u001b[0m \u001b[38;5;28;01mimport\u001b[39;00m \u001b[38;5;21;01msunpy\u001b[39;00m\u001b[38;5;21;01m.\u001b[39;00m\u001b[38;5;21;01mdata\u001b[39;00m\u001b[38;5;21;01m.\u001b[39;00m\u001b[38;5;21;01msample\u001b[39;00m\n\u001b[0;32m     10\u001b[0m \u001b[38;5;28;01mimport\u001b[39;00m \u001b[38;5;21;01msunpy\u001b[39;00m\u001b[38;5;21;01m.\u001b[39;00m\u001b[38;5;21;01mmap\u001b[39;00m\n\u001b[0;32m     12\u001b[0m \u001b[38;5;28;01mimport\u001b[39;00m \u001b[38;5;21;01mnumpy\u001b[39;00m \u001b[38;5;28;01mas\u001b[39;00m \u001b[38;5;21;01mnp\u001b[39;00m\n",
      "File \u001b[1;32m~\\anaconda3\\Lib\\site-packages\\sunpy\\__init__.py:11\u001b[0m\n\u001b[0;32m      1\u001b[0m \u001b[38;5;124;03m\"\"\"\u001b[39;00m\n\u001b[0;32m      2\u001b[0m \u001b[38;5;124;03m``sunpy``\u001b[39;00m\n\u001b[0;32m      3\u001b[0m \u001b[38;5;124;03m=========\u001b[39;00m\n\u001b[1;32m   (...)\u001b[0m\n\u001b[0;32m      8\u001b[0m \u001b[38;5;124;03m* Documentation: https://docs.sunpy.org/en/stable/\u001b[39;00m\n\u001b[0;32m      9\u001b[0m \u001b[38;5;124;03m\"\"\"\u001b[39;00m\n\u001b[0;32m     10\u001b[0m \u001b[38;5;28;01mfrom\u001b[39;00m \u001b[38;5;21;01msunpy\u001b[39;00m\u001b[38;5;21;01m.\u001b[39;00m\u001b[38;5;21;01mtests\u001b[39;00m\u001b[38;5;21;01m.\u001b[39;00m\u001b[38;5;21;01mself_test\u001b[39;00m \u001b[38;5;28;01mimport\u001b[39;00m self_test\n\u001b[1;32m---> 11\u001b[0m \u001b[38;5;28;01mfrom\u001b[39;00m \u001b[38;5;21;01msunpy\u001b[39;00m\u001b[38;5;21;01m.\u001b[39;00m\u001b[38;5;21;01mutil\u001b[39;00m \u001b[38;5;28;01mimport\u001b[39;00m system_info\n\u001b[0;32m     12\u001b[0m \u001b[38;5;28;01mfrom\u001b[39;00m \u001b[38;5;21;01msunpy\u001b[39;00m\u001b[38;5;21;01m.\u001b[39;00m\u001b[38;5;21;01mutil\u001b[39;00m\u001b[38;5;21;01m.\u001b[39;00m\u001b[38;5;21;01mconfig\u001b[39;00m \u001b[38;5;28;01mimport\u001b[39;00m load_config, print_config\n\u001b[0;32m     13\u001b[0m \u001b[38;5;28;01mfrom\u001b[39;00m \u001b[38;5;21;01msunpy\u001b[39;00m\u001b[38;5;21;01m.\u001b[39;00m\u001b[38;5;21;01mutil\u001b[39;00m\u001b[38;5;21;01m.\u001b[39;00m\u001b[38;5;21;01mlogger\u001b[39;00m \u001b[38;5;28;01mimport\u001b[39;00m _init_log\n",
      "File \u001b[1;32m~\\anaconda3\\Lib\\site-packages\\sunpy\\util\\__init__.py:1\u001b[0m\n\u001b[1;32m----> 1\u001b[0m \u001b[38;5;28;01mfrom\u001b[39;00m \u001b[38;5;21;01msunpy\u001b[39;00m\u001b[38;5;21;01m.\u001b[39;00m\u001b[38;5;21;01mutil\u001b[39;00m\u001b[38;5;21;01m.\u001b[39;00m\u001b[38;5;21;01mdecorators\u001b[39;00m \u001b[38;5;28;01mimport\u001b[39;00m \u001b[38;5;241m*\u001b[39m\n\u001b[0;32m      2\u001b[0m \u001b[38;5;28;01mfrom\u001b[39;00m \u001b[38;5;21;01msunpy\u001b[39;00m\u001b[38;5;21;01m.\u001b[39;00m\u001b[38;5;21;01mutil\u001b[39;00m\u001b[38;5;21;01m.\u001b[39;00m\u001b[38;5;21;01mexceptions\u001b[39;00m \u001b[38;5;28;01mimport\u001b[39;00m \u001b[38;5;241m*\u001b[39m\n\u001b[0;32m      3\u001b[0m \u001b[38;5;28;01mfrom\u001b[39;00m \u001b[38;5;21;01msunpy\u001b[39;00m\u001b[38;5;21;01m.\u001b[39;00m\u001b[38;5;21;01mutil\u001b[39;00m\u001b[38;5;21;01m.\u001b[39;00m\u001b[38;5;21;01mmetadata\u001b[39;00m \u001b[38;5;28;01mimport\u001b[39;00m \u001b[38;5;241m*\u001b[39m\n",
      "File \u001b[1;32m~\\anaconda3\\Lib\\site-packages\\sunpy\\util\\decorators.py:15\u001b[0m\n\u001b[0;32m     12\u001b[0m \u001b[38;5;28;01mimport\u001b[39;00m \u001b[38;5;21;01mnumpy\u001b[39;00m \u001b[38;5;28;01mas\u001b[39;00m \u001b[38;5;21;01mnp\u001b[39;00m\n\u001b[0;32m     14\u001b[0m \u001b[38;5;28;01mimport\u001b[39;00m \u001b[38;5;21;01mastropy\u001b[39;00m\u001b[38;5;21;01m.\u001b[39;00m\u001b[38;5;21;01munits\u001b[39;00m \u001b[38;5;28;01mas\u001b[39;00m \u001b[38;5;21;01mu\u001b[39;00m\n\u001b[1;32m---> 15\u001b[0m \u001b[38;5;28;01mfrom\u001b[39;00m \u001b[38;5;21;01mastropy\u001b[39;00m\u001b[38;5;21;01m.\u001b[39;00m\u001b[38;5;21;01mnddata\u001b[39;00m \u001b[38;5;28;01mimport\u001b[39;00m NDData\n\u001b[0;32m     17\u001b[0m \u001b[38;5;28;01mfrom\u001b[39;00m \u001b[38;5;21;01msunpy\u001b[39;00m\u001b[38;5;21;01m.\u001b[39;00m\u001b[38;5;21;01mutil\u001b[39;00m\u001b[38;5;21;01m.\u001b[39;00m\u001b[38;5;21;01mexceptions\u001b[39;00m \u001b[38;5;28;01mimport\u001b[39;00m SunpyDeprecationWarning, SunpyPendingDeprecationWarning, warn_deprecated\n\u001b[0;32m     19\u001b[0m __all__ \u001b[38;5;241m=\u001b[39m [\u001b[38;5;124m'\u001b[39m\u001b[38;5;124mdeprecated\u001b[39m\u001b[38;5;124m'\u001b[39m]\n",
      "File \u001b[1;32m~\\anaconda3\\Lib\\site-packages\\astropy\\nddata\\__init__.py:14\u001b[0m\n\u001b[0;32m     11\u001b[0m \u001b[38;5;28;01mfrom\u001b[39;00m \u001b[38;5;21;01mastropy\u001b[39;00m \u001b[38;5;28;01mimport\u001b[39;00m config \u001b[38;5;28;01mas\u001b[39;00m _config\n\u001b[0;32m     13\u001b[0m \u001b[38;5;28;01mfrom\u001b[39;00m \u001b[38;5;21;01m.\u001b[39;00m\u001b[38;5;21;01mbitmask\u001b[39;00m \u001b[38;5;28;01mimport\u001b[39;00m \u001b[38;5;241m*\u001b[39m\n\u001b[1;32m---> 14\u001b[0m \u001b[38;5;28;01mfrom\u001b[39;00m \u001b[38;5;21;01m.\u001b[39;00m\u001b[38;5;21;01mblocks\u001b[39;00m \u001b[38;5;28;01mimport\u001b[39;00m \u001b[38;5;241m*\u001b[39m\n\u001b[0;32m     15\u001b[0m \u001b[38;5;28;01mfrom\u001b[39;00m \u001b[38;5;21;01m.\u001b[39;00m\u001b[38;5;21;01mccddata\u001b[39;00m \u001b[38;5;28;01mimport\u001b[39;00m \u001b[38;5;241m*\u001b[39m\n\u001b[0;32m     16\u001b[0m \u001b[38;5;28;01mfrom\u001b[39;00m \u001b[38;5;21;01m.\u001b[39;00m\u001b[38;5;21;01mcompat\u001b[39;00m \u001b[38;5;28;01mimport\u001b[39;00m \u001b[38;5;241m*\u001b[39m\n",
      "File \u001b[1;32m~\\anaconda3\\Lib\\site-packages\\astropy\\nddata\\blocks.py:8\u001b[0m\n\u001b[0;32m      2\u001b[0m \u001b[38;5;124;03m\"\"\"\u001b[39;00m\n\u001b[0;32m      3\u001b[0m \u001b[38;5;124;03mThis module includes helper functions for array operations.\u001b[39;00m\n\u001b[0;32m      4\u001b[0m \u001b[38;5;124;03m\"\"\"\u001b[39;00m\n\u001b[0;32m      6\u001b[0m \u001b[38;5;28;01mimport\u001b[39;00m \u001b[38;5;21;01mnumpy\u001b[39;00m \u001b[38;5;28;01mas\u001b[39;00m \u001b[38;5;21;01mnp\u001b[39;00m\n\u001b[1;32m----> 8\u001b[0m \u001b[38;5;28;01mfrom\u001b[39;00m \u001b[38;5;21;01m.\u001b[39;00m\u001b[38;5;21;01mdecorators\u001b[39;00m \u001b[38;5;28;01mimport\u001b[39;00m support_nddata\n\u001b[0;32m     10\u001b[0m __all__ \u001b[38;5;241m=\u001b[39m [\u001b[38;5;124m\"\u001b[39m\u001b[38;5;124mreshape_as_blocks\u001b[39m\u001b[38;5;124m\"\u001b[39m, \u001b[38;5;124m\"\u001b[39m\u001b[38;5;124mblock_reduce\u001b[39m\u001b[38;5;124m\"\u001b[39m, \u001b[38;5;124m\"\u001b[39m\u001b[38;5;124mblock_replicate\u001b[39m\u001b[38;5;124m\"\u001b[39m]\n\u001b[0;32m     13\u001b[0m \u001b[38;5;28;01mdef\u001b[39;00m \u001b[38;5;21m_process_block_inputs\u001b[39m(data, block_size):\n",
      "File \u001b[1;32m~\\anaconda3\\Lib\\site-packages\\astropy\\nddata\\decorators.py:12\u001b[0m\n\u001b[0;32m      8\u001b[0m \u001b[38;5;28;01mfrom\u001b[39;00m \u001b[38;5;21;01mitertools\u001b[39;00m \u001b[38;5;28;01mimport\u001b[39;00m islice\n\u001b[0;32m     10\u001b[0m \u001b[38;5;28;01mfrom\u001b[39;00m \u001b[38;5;21;01mastropy\u001b[39;00m\u001b[38;5;21;01m.\u001b[39;00m\u001b[38;5;21;01mutils\u001b[39;00m\u001b[38;5;21;01m.\u001b[39;00m\u001b[38;5;21;01mexceptions\u001b[39;00m \u001b[38;5;28;01mimport\u001b[39;00m AstropyUserWarning\n\u001b[1;32m---> 12\u001b[0m \u001b[38;5;28;01mfrom\u001b[39;00m \u001b[38;5;21;01m.\u001b[39;00m\u001b[38;5;21;01mnddata\u001b[39;00m \u001b[38;5;28;01mimport\u001b[39;00m NDData\n\u001b[0;32m     14\u001b[0m __all__ \u001b[38;5;241m=\u001b[39m [\u001b[38;5;124m\"\u001b[39m\u001b[38;5;124msupport_nddata\u001b[39m\u001b[38;5;124m\"\u001b[39m]\n\u001b[0;32m     17\u001b[0m \u001b[38;5;66;03m# All supported properties are optional except \"data\" which is mandatory!\u001b[39;00m\n",
      "File \u001b[1;32m~\\anaconda3\\Lib\\site-packages\\astropy\\nddata\\nddata.py:13\u001b[0m\n\u001b[0;32m     11\u001b[0m \u001b[38;5;28;01mfrom\u001b[39;00m \u001b[38;5;21;01mastropy\u001b[39;00m\u001b[38;5;21;01m.\u001b[39;00m\u001b[38;5;21;01mutils\u001b[39;00m\u001b[38;5;21;01m.\u001b[39;00m\u001b[38;5;21;01mmasked\u001b[39;00m \u001b[38;5;28;01mimport\u001b[39;00m Masked, MaskedNDArray\n\u001b[0;32m     12\u001b[0m \u001b[38;5;28;01mfrom\u001b[39;00m \u001b[38;5;21;01mastropy\u001b[39;00m\u001b[38;5;21;01m.\u001b[39;00m\u001b[38;5;21;01mutils\u001b[39;00m\u001b[38;5;21;01m.\u001b[39;00m\u001b[38;5;21;01mmetadata\u001b[39;00m \u001b[38;5;28;01mimport\u001b[39;00m MetaData\n\u001b[1;32m---> 13\u001b[0m \u001b[38;5;28;01mfrom\u001b[39;00m \u001b[38;5;21;01mastropy\u001b[39;00m\u001b[38;5;21;01m.\u001b[39;00m\u001b[38;5;21;01mwcs\u001b[39;00m\u001b[38;5;21;01m.\u001b[39;00m\u001b[38;5;21;01mwcsapi\u001b[39;00m \u001b[38;5;28;01mimport\u001b[39;00m (\n\u001b[0;32m     14\u001b[0m     BaseHighLevelWCS,\n\u001b[0;32m     15\u001b[0m     BaseLowLevelWCS,\n\u001b[0;32m     16\u001b[0m     HighLevelWCSWrapper,\n\u001b[0;32m     17\u001b[0m     SlicedLowLevelWCS,  \u001b[38;5;66;03m# noqa: F401\u001b[39;00m\n\u001b[0;32m     18\u001b[0m )\n\u001b[0;32m     20\u001b[0m \u001b[38;5;28;01mtry\u001b[39;00m:\n\u001b[0;32m     21\u001b[0m     \u001b[38;5;28;01mimport\u001b[39;00m \u001b[38;5;21;01mdask\u001b[39;00m\u001b[38;5;21;01m.\u001b[39;00m\u001b[38;5;21;01marray\u001b[39;00m \u001b[38;5;28;01mas\u001b[39;00m \u001b[38;5;21;01mda\u001b[39;00m\n",
      "File \u001b[1;32m~\\anaconda3\\Lib\\site-packages\\astropy\\wcs\\__init__.py:27\u001b[0m\n\u001b[0;32m      1\u001b[0m \u001b[38;5;66;03m# Licensed under a 3-clause BSD style license - see LICENSE.rst\u001b[39;00m\n\u001b[0;32m      2\u001b[0m \u001b[38;5;124;03m\"\"\"World Coordinate System (WCS) transformations in FITS files.\u001b[39;00m\n\u001b[0;32m      3\u001b[0m \n\u001b[0;32m      4\u001b[0m \u001b[38;5;124;03m.. _wcslib: https://www.atnf.csiro.au/people/mcalabre/WCS/wcslib/index.html\u001b[39;00m\n\u001b[1;32m   (...)\u001b[0m\n\u001b[0;32m     24\u001b[0m \u001b[38;5;124;03ma standard pipeline.\u001b[39;00m\n\u001b[0;32m     25\u001b[0m \u001b[38;5;124;03m\"\"\"\u001b[39;00m\n\u001b[1;32m---> 27\u001b[0m \u001b[38;5;28;01mfrom\u001b[39;00m \u001b[38;5;21;01m.\u001b[39;00m \u001b[38;5;28;01mimport\u001b[39;00m utils\n\u001b[0;32m     28\u001b[0m \u001b[38;5;28;01mfrom\u001b[39;00m \u001b[38;5;21;01m.\u001b[39;00m\u001b[38;5;21;01mwcs\u001b[39;00m \u001b[38;5;28;01mimport\u001b[39;00m \u001b[38;5;241m*\u001b[39m\n\u001b[0;32m     29\u001b[0m \u001b[38;5;28;01mfrom\u001b[39;00m \u001b[38;5;21;01m.\u001b[39;00m\u001b[38;5;21;01mwcs\u001b[39;00m \u001b[38;5;28;01mimport\u001b[39;00m InvalidTabularParametersError  \u001b[38;5;66;03m# just for docs\u001b[39;00m\n",
      "File \u001b[1;32m~\\anaconda3\\Lib\\site-packages\\astropy\\wcs\\utils.py:9\u001b[0m\n\u001b[0;32m      6\u001b[0m \u001b[38;5;28;01mimport\u001b[39;00m \u001b[38;5;21;01mnumpy\u001b[39;00m \u001b[38;5;28;01mas\u001b[39;00m \u001b[38;5;21;01mnp\u001b[39;00m\n\u001b[0;32m      8\u001b[0m \u001b[38;5;28;01mimport\u001b[39;00m \u001b[38;5;21;01mastropy\u001b[39;00m\u001b[38;5;21;01m.\u001b[39;00m\u001b[38;5;21;01munits\u001b[39;00m \u001b[38;5;28;01mas\u001b[39;00m \u001b[38;5;21;01mu\u001b[39;00m\n\u001b[1;32m----> 9\u001b[0m \u001b[38;5;28;01mfrom\u001b[39;00m \u001b[38;5;21;01mastropy\u001b[39;00m\u001b[38;5;21;01m.\u001b[39;00m\u001b[38;5;21;01mcoordinates\u001b[39;00m \u001b[38;5;28;01mimport\u001b[39;00m (\n\u001b[0;32m     10\u001b[0m     ITRS,\n\u001b[0;32m     11\u001b[0m     BaseBodycentricRepresentation,\n\u001b[0;32m     12\u001b[0m     BaseCoordinateFrame,\n\u001b[0;32m     13\u001b[0m     BaseGeodeticRepresentation,\n\u001b[0;32m     14\u001b[0m     CartesianRepresentation,\n\u001b[0;32m     15\u001b[0m     SphericalRepresentation,\n\u001b[0;32m     16\u001b[0m )\n\u001b[0;32m     17\u001b[0m \u001b[38;5;28;01mfrom\u001b[39;00m \u001b[38;5;21;01mastropy\u001b[39;00m\u001b[38;5;21;01m.\u001b[39;00m\u001b[38;5;21;01mutils\u001b[39;00m \u001b[38;5;28;01mimport\u001b[39;00m unbroadcast\n\u001b[0;32m     19\u001b[0m \u001b[38;5;28;01mfrom\u001b[39;00m \u001b[38;5;21;01m.\u001b[39;00m\u001b[38;5;21;01mwcs\u001b[39;00m \u001b[38;5;28;01mimport\u001b[39;00m WCS, WCSSUB_LATITUDE, WCSSUB_LONGITUDE\n",
      "\u001b[1;31mImportError\u001b[0m: cannot import name 'BaseBodycentricRepresentation' from 'astropy.coordinates' (C:\\Users\\ameli\\anaconda3\\Lib\\site-packages\\astropy\\coordinates\\__init__.py)"
     ]
    }
   ],
   "source": [
    "import pandas as pd\n",
    "from sklearn.preprocessing import OrdinalEncoder\n",
    "from sklearn.cluster import DBSCAN\n",
    "\n",
    "import matplotlib.pyplot as plt\n",
    "import astropy.units as u\n",
    "from astropy.coordinates import SkyCoord\n",
    "import sunpy.data.sample\n",
    "import sunpy.map\n",
    "\n",
    "import numpy as np\n",
    "from ipywidgets import widgets\n",
    "from IPython.display import display, Image, HTML\n",
    "\n",
    "from ipywidgets  import interact, interactive, interact_manual , interactive_output, fixed"
   ]
  },
  {
   "cell_type": "markdown",
   "metadata": {},
   "source": [
    "## Cargar Datos"
   ]
  },
  {
   "cell_type": "code",
   "execution_count": null,
   "metadata": {},
   "outputs": [],
   "source": [
    "\n",
    "column_names = [\"Flare\", \"Date\", \"Start time\", \"Peak time\", \"End time\", \"Duration\", \"Peak counts\", \n",
    "                    \"Total counts\", \"Energy\", \"X pos\", \"Y pos\", \"Radial\", \"Active region\", \n",
    "                    \"Flag 1\", \"Flag 2\", \"Flag 3\", \"Flag 4\", \"Flag 5\"]\n",
    "\n",
    "df = pd.read_csv(\"hessi.solar.flare.UP_To_2018.csv\",names=column_names, header = 0)\n",
    "#df = pd.read_csv(\"hessi.solar.flare.UP_To_2018.csv\",names=column_names, header = 0)\n",
    "\n",
    "def preparar_caracteristicas(df):       \n",
    "    # Deal with datetime format\n",
    "    df['Start time'] = pd.to_datetime(df['Date'] + ' ' + df['Start time'])\n",
    "    df['Peak time'] = pd.to_datetime(df['Date'] + ' ' + df['Peak time'])\n",
    "    df['End time'] = pd.to_datetime(df['Date'] + ' ' + df['End time'])\n",
    "    df['Date'] = pd.to_datetime(df['Date'])\n",
    "    df.loc[df['Start time'] >= df['End time'], 'End time'] += pd.Timedelta(days=1)\n",
    "    df.loc[df['Start time'] >= df['Peak time'], 'Peak time'] += pd.Timedelta(days=1)\n",
    "    \n",
    "    df.sort_values(by='Start time', inplace=True)\n",
    "    df['Time till next peak'] = (df['Peak time'].shift(-1) - df['Peak time']).dt.total_seconds()\n",
    "    df = df.iloc[:-1]\n",
    "    \n",
    "    df['Solar cycle'] = ((df['Date'].dt.year - 2008) % 11) + 1\n",
    "    \n",
    "    split_values = df['Flag 5'].str.split(' ', expand=True).add_prefix('FlagN ')\n",
    "    df = pd.concat([df, split_values], axis = 1)\n",
    "    flags = df.filter(like = \"Flag\")\n",
    "    flags = flags.drop(\"Flag 5\", axis = 1)\n",
    "    flag_dummies = pd.get_dummies(flags, prefix=\"Flag\")\n",
    "    flags = flag_dummies.groupby(flag_dummies.columns.str[-2:], axis=1).sum().astype(bool)\n",
    "    flags[\"A\"] = flags.apply(lambda x: \"A0\" if x[\"A0\"] == 1 else (\"A1\" if x[\"A1\"] == 1 else \"A3\"), axis=1)\n",
    "    flags[\"Q\"] = flags.apply(lambda x: \"Q1\" if x[\"Q1\"] == 1 else (\"Q2\" if x[\"Q2\"] == 1 else (\"Q3\" if x[\"Q3\"] == 1 else (\"Q4\" if x[\"Q4\"] == 1 else (\"Q5\" if x[\"Q5\"] == 1 else (\"Q6\" if x[\"Q6\"] == 1 else \"Q7\"))))), axis=1)\n",
    "    flags.drop(columns=[\"A1\", \"A0\", \"A3\",\"Q1\", \"Q2\", \"Q3\", \"Q4\", \"Q5\", \"Q6\", \"Q7\"], inplace=True)\n",
    "    df = pd.concat([df, flags], axis=1)\n",
    "    df = df.filter(regex=\"^(?!.*Flag)\")\n",
    "    \n",
    "    df[df[\"Flare\"].duplicated(keep = False)]\n",
    "    \n",
    "    df.loc[:, \"Flare number\"] = df[\"Flare\"].apply(lambda x: int(str(x)[-2:])) # Ver punto siguiente\n",
    "    df[\"Time till peak\"] = (df['Peak time'] - df['Start time']).dt.total_seconds()\n",
    "    data = df[~(df[\"DF\"] & df[\"DR\"]) & ~df[\"NS\"] & ~(df[\"GD\"] & df[\"GE\"] & df[\"GS\"]) & ~df[\"PS\"] & ~(df[\"EE\"] & df[\"ES\"]) & ~(df[\"SS\"] & df[\"SD\"] & df[\"SE\"])]\n",
    "    data.reset_index(drop=True, inplace=True)\n",
    "    \n",
    "    data = data[[\"Flare number\", \"Solar cycle\", \"Peak counts\", \"Total counts\", \"Energy\", \"X pos\", \"Y pos\",\"Radial\", \"PE\", \"Duration\", \"Time till peak\",\"Time till next peak\"]]\n",
    "    \n",
    "    data.head()\n",
    "    column = data[[\"Energy\"]]\n",
    "    order = [\"3-6\", \"6-12\",\"12-25\", \"25-50\", \"50-100\", \"100-300\", \"300-800\", \"800-7000\", \"7000-20000\"]\n",
    "    enc = OrdinalEncoder(categories=[order])\n",
    "    label_encoding = enc.fit_transform(column)\n",
    "    data[\"Energy\"] = pd.DataFrame(label_encoding)\n",
    "    \n",
    "    return data\n",
    "\n",
    "data = preparar_caracteristicas(df)\n",
    "data.head()"
   ]
  },
  {
   "cell_type": "code",
   "execution_count": null,
   "metadata": {},
   "outputs": [],
   "source": [
    "def remover_outliers(data):\n",
    "    data = data[data[\"Radial\"]< 1865]\n",
    "    data_outliers = data.copy()\n",
    "    print(f\"Shape of data : {data_outliers.shape}\")\n",
    "    print(f\"Type of data : {type(data_outliers)}\")\n",
    "    # Create DBSCAN model with parameters\n",
    "    model = DBSCAN(eps=300,min_samples=5) #### Estos parametros son los que se tendrían que ajustar \n",
    "    # (radio de cada anillo y número mínimo de muestras en el anillo para que sean válidos)\n",
    "    # Fit model to data\n",
    "    model.fit(data_outliers)\n",
    "    # Printing total number of outliers\n",
    "    print(f\"Total number of outliers : {sum(model.labels_ == -1)}\")\n",
    "    # Outliers \n",
    "    outliers_index = model.labels_ == -1\n",
    "    data_no_outliers = data_outliers[~outliers_index]\n",
    "    data_no_outliers.reset_index(drop=True, inplace=True)\n",
    "    data = data_no_outliers.copy()\n",
    "    \n",
    "    data = data[data[\"Time till next peak\"] < 7500]\n",
    "    return data\n",
    "\n",
    "data = remover_outliers(data)\n",
    "data.head()"
   ]
  },
  {
   "cell_type": "code",
   "execution_count": null,
   "metadata": {},
   "outputs": [],
   "source": [
    "data.shape"
   ]
  },
  {
   "cell_type": "code",
   "execution_count": null,
   "metadata": {},
   "outputs": [],
   "source": [
    "data[\"Time till peak\"].min()"
   ]
  },
  {
   "cell_type": "code",
   "execution_count": 2,
   "metadata": {},
   "outputs": [
    {
     "ename": "NameError",
     "evalue": "name 'data' is not defined",
     "output_type": "error",
     "traceback": [
      "\u001b[1;31m---------------------------------------------------------------------------\u001b[0m",
      "\u001b[1;31mNameError\u001b[0m                                 Traceback (most recent call last)",
      "Cell \u001b[1;32mIn[2], line 1\u001b[0m\n\u001b[1;32m----> 1\u001b[0m data[\u001b[38;5;124m\"\u001b[39m\u001b[38;5;124mEnergy\u001b[39m\u001b[38;5;124m\"\u001b[39m]\u001b[38;5;241m.\u001b[39munique()\n",
      "\u001b[1;31mNameError\u001b[0m: name 'data' is not defined"
     ]
    }
   ],
   "source": [
    "data[\"Energy\"].unique()"
   ]
  },
  {
   "cell_type": "markdown",
   "metadata": {},
   "source": [
    "## Importe de modelo"
   ]
  },
  {
   "cell_type": "code",
   "execution_count": 7,
   "metadata": {},
   "outputs": [],
   "source": [
    "import pickle as pk\n",
    "\n",
    "#Cargar el modelo\n",
    "\n",
    "with open('modelo_guardar.pkl', 'rb') as modelo:\n",
    "    modelo_cargado = pk.load(modelo)"
   ]
  },
  {
   "cell_type": "code",
   "execution_count": null,
   "metadata": {},
   "outputs": [],
   "source": [
    "import joblib\n",
    "scaler_target = joblib.load('scaler_target.gz')"
   ]
  },
  {
   "cell_type": "code",
   "execution_count": null,
   "metadata": {},
   "outputs": [],
   "source": [
    "from "
   ]
  },
  {
   "cell_type": "code",
   "execution_count": 8,
   "metadata": {},
   "outputs": [
    {
     "data": {
      "text/html": [
       "<div>\n",
       "<style scoped>\n",
       "    .dataframe tbody tr th:only-of-type {\n",
       "        vertical-align: middle;\n",
       "    }\n",
       "\n",
       "    .dataframe tbody tr th {\n",
       "        vertical-align: top;\n",
       "    }\n",
       "\n",
       "    .dataframe thead th {\n",
       "        text-align: right;\n",
       "    }\n",
       "</style>\n",
       "<table border=\"1\" class=\"dataframe\">\n",
       "  <thead>\n",
       "    <tr style=\"text-align: right;\">\n",
       "      <th></th>\n",
       "      <th>Flare number</th>\n",
       "      <th>Solar cycle</th>\n",
       "      <th>Peak counts</th>\n",
       "      <th>Total counts</th>\n",
       "      <th>Energy</th>\n",
       "      <th>X pos</th>\n",
       "      <th>Y pos</th>\n",
       "      <th>Radial</th>\n",
       "      <th>PE</th>\n",
       "      <th>Duration</th>\n",
       "      <th>Time till peak</th>\n",
       "    </tr>\n",
       "  </thead>\n",
       "  <tbody>\n",
       "    <tr>\n",
       "      <th>0</th>\n",
       "      <td>1</td>\n",
       "      <td>4</td>\n",
       "      <td>1000</td>\n",
       "      <td>125</td>\n",
       "      <td>2</td>\n",
       "      <td>0</td>\n",
       "      <td>0</td>\n",
       "      <td>340</td>\n",
       "      <td>True</td>\n",
       "      <td>123</td>\n",
       "      <td>100</td>\n",
       "    </tr>\n",
       "  </tbody>\n",
       "</table>\n",
       "</div>"
      ],
      "text/plain": [
       "   Flare number  Solar cycle  Peak counts  Total counts  Energy  X pos  Y pos  \\\n",
       "0             1            4         1000           125       2      0      0   \n",
       "\n",
       "   Radial    PE  Duration  Time till peak  \n",
       "0     340  True       123             100  "
      ]
     },
     "execution_count": 8,
     "metadata": {},
     "output_type": "execute_result"
    }
   ],
   "source": [
    "#Valor a predecir:\n",
    "Flare_number = 1\n",
    "Solar_cycle = 4\n",
    "Peak_counts = 1000\n",
    "Total_counts = 125\n",
    "Energy = 2\n",
    "X_pos = 0\n",
    "Y_pos = 0\n",
    "Radial = 340\n",
    "PE = True\n",
    "Duration = 123\n",
    "Time_till_peak = 100\n",
    "\n",
    "dato_a_predecir = pd.DataFrame([[Flare_number, Solar_cycle, Peak_counts, Total_counts, Energy, X_pos, Y_pos, Radial, PE, Duration, Time_till_peak]], columns = [\"Flare number\", \"Solar cycle\", \"Peak counts\", \"Total counts\", \"Energy\", \"X pos\", \"Y pos\", \"Radial\", \"PE\", \"Duration\", \"Time till peak\"])\n",
    "prediccion = modelo_cargado.predict(dato_a_predecir)\n",
    "\n",
    "dato_a_predecir"
   ]
  },
  {
   "cell_type": "code",
   "execution_count": 9,
   "metadata": {},
   "outputs": [
    {
     "data": {
      "text/plain": [
       "array([480.43017506])"
      ]
     },
     "execution_count": 9,
     "metadata": {},
     "output_type": "execute_result"
    }
   ],
   "source": [
    "prediccion"
   ]
  },
  {
   "cell_type": "code",
   "execution_count": 10,
   "metadata": {},
   "outputs": [],
   "source": [
    "def predecirT(Flare_number, Solar_cycle, Peak_counts, Total_counts, Energy, X_pos, Y_pos, Radial, PE, Duration, Time_till_peak):\n",
    "    dato_a_predecir = pd.DataFrame([[Flare_number, Solar_cycle, Peak_counts, Total_counts, Energy, X_pos, Y_pos, Radial, PE, Duration, Time_till_peak]], columns = [\"Flare number\", \"Solar cycle\", \"Peak counts\", \"Total counts\", \"Energy\", \"X pos\", \"Y pos\", \"Radial\", \"PE\", \"Duration\", \"Time till peak\"])\n",
    "    prediccion = modelo_cargado.predict(dato_a_predecir)\n",
    "    print(\"El tiempo estimado para la siguiente llamarada solar son: \", prediccion[0])\n",
    "    return prediccion[0]"
   ]
  },
  {
   "cell_type": "code",
   "execution_count": 11,
   "metadata": {},
   "outputs": [
    {
     "data": {
      "application/vnd.jupyter.widget-view+json": {
       "model_id": "53a038230c1c415da15c5c641e0dceeb",
       "version_major": 2,
       "version_minor": 0
      },
      "text/plain": [
       "Output()"
      ]
     },
     "execution_count": 11,
     "metadata": {},
     "output_type": "execute_result"
    }
   ],
   "source": [
    "ss =  widgets.Output()\n",
    "\n",
    "with ss:\n",
    "    display(HTML(\"<h1>Modelo de predicción de tiempo entre llamaradas</h1>\"))\n",
    "\n",
    "ss"
   ]
  },
  {
   "cell_type": "code",
   "execution_count": null,
   "metadata": {},
   "outputs": [],
   "source": []
  },
  {
   "cell_type": "code",
   "execution_count": 12,
   "metadata": {},
   "outputs": [],
   "source": [
    "#Title =  widgets.Label(value = \"Hola mundo\", layout = widgets.Layout(width = \"auto\", justify_content = \"center\", border = \"2px dashed black\"))\n",
    "Title =  widgets.Output()\n",
    "Title.clear_output()\n",
    "with Title:\n",
    "    display(HTML(\"<h1>Modelo de predicción de tiempo entre llamaradas</h1>\"))\n",
    "Title.layout = {\"justify_content\" : \"center\"}\n",
    "\n",
    "\n",
    "w1 = widgets.IntSlider(value= 30, min = 0, max = 100)\n",
    "w2 = widgets.IntSlider(value= 3, min = 1, max = 11)\n",
    "w3 = widgets.IntSlider(value= 200, min = 0, max = 500)\n",
    "w4 = widgets.IntSlider(value= 200, min = 0, max = 180000)\n",
    "w5 = widgets.Dropdown(options = [(\"(3 - 6)\", 1), (\"(6 - 12)\", 2),(\"(12 - 25)\", 3),(\"(25 - 50)\", 4),(\"(50 - 100)\", 5),(\"(100 - 300)\", 6),\n",
    "                                 (\"(300 - 800)\", 7),(\"(800 - 7000)\", 8)]) #Cambiar por lista desplegable\n",
    "w6 = widgets.IntSlider(value= 0, min = -1024, max = 1083)\n",
    "w7 = widgets.IntSlider(value= 0, min = -625, max = 596)\n",
    "w8 = widgets.IntSlider(value= 200, min = 0, max = 1110)\n",
    "w9 = widgets.Checkbox()#Tue o false\n",
    "w10 = widgets.IntSlider(value= 200, min = 1, max = 900)\n",
    "w11 = widgets.IntSlider(value= 200, min = 1, max = 450)\n",
    "ws = [w1,w2,w3,w4,w5,w6,w7,w8,w9,w10,w11]\n",
    "\n",
    "n1 =  widgets.Label(value = \"Número de llamarada en el dia\", layout = widgets.Layout(width = \"auto\"))\n",
    "n2 =  widgets.Label(value = \"Año del ciclo solar\", layout = widgets.Layout(width = \"auto\"))\n",
    "n3 =  widgets.Label(value = \"Tasa de conteos de radiación por segundo\", layout = widgets.Layout(width = \"auto\"))\n",
    "n4 =  widgets.Label(value = \"Número total de conteos durante la llamarada\", layout = widgets.Layout(width = \"auto\"))\n",
    "n5 =  widgets.Label(value = \"Rango de energia (KeV)\", layout = widgets.Layout(width = \"auto\"))\n",
    "n6 =  widgets.Label(value = \"Posición del destello en segundos de arco desde el centro del sol (X)\", layout = widgets.Layout(width = \"auto\"))\n",
    "n7 =  widgets.Label(value = \"Posición del destello en segundos de arco desde el centro del sol (Y)\", layout = widgets.Layout(width = \"auto\"))\n",
    "n8 =  widgets.Label(value = \"Distancia radial en segundos de arco desde el centro del sol\", layout = widgets.Layout(width = \"auto\"))\n",
    "n9 =  widgets.Label(value = \"Sucedió un evento partículas\", layout = widgets.Layout(width = \"auto\"))\n",
    "n10 =  widgets.Label(value = \"Duración del destello en segundos\", layout = widgets.Layout(width = \"auto\"))\n",
    "n11 =  widgets.Label(value = \"Tiempo hasta el pico en el dia\", layout = widgets.Layout(width = \"auto\"))\n",
    "ns = [n1,n2,n3,n4,n5,n6,n7,n8,n9,n10,n11]\n",
    "\n",
    "tipo = \"Es un modelo de: \" + str(type(modelo_cargado))\n",
    "info1 = widgets.Label(value = tipo , layout = widgets.Layout(width = \"auto\"))\n",
    "info2 = widgets.Label(value = \"Tiene un error de: \" , layout = widgets.Layout(width = \"auto\")) #FALTA POR PONER\n",
    "\n",
    "info = widgets.VBox([info1,info2])\n",
    "\n",
    "foto = widgets.Output()\n",
    "foto.clear_output()\n",
    "with foto:\n",
    "    display(Image(filename = \"aia_1600_image.jpg\"))\n",
    "\n",
    "vars = {\"Flare_number\": w1, \"Solar_cycle\" : w2, \"Peak_counts\" : w3, \"Total_counts\": w4, \"Energy\" :w5, \"X_pos\": w6,\"Y_pos\":w7, \"Radial\": w8,\n",
    "        \"PE\": w9, \"Duration\": w10,\"Time_till_peak\":w11}\n",
    "\n",
    "gui2 = interactive_output(predecirT, vars)\n",
    "gui2.layout = {\"border\" : \"2px dashed red\", \"justify_content\" : \"center\"}"
   ]
  },
  {
   "cell_type": "code",
   "execution_count": 13,
   "metadata": {},
   "outputs": [],
   "source": [
    "def graficar_sol(x,y):\n",
    "    pos_1_x = x + 400\n",
    "    pos_1_y = y + 400\n",
    "    pos_2_x = x - 400\n",
    "    pos_2_y = y - 400\n",
    "    \n",
    "    swap_map = sunpy.map.Map(sunpy.data.sample.SWAP_LEVEL1_IMAGE)\n",
    "\n",
    "    top_right = SkyCoord(pos_1_x * u.arcsec, pos_1_y * u.arcsec, frame=swap_map.coordinate_frame)\n",
    "    bottom_left = SkyCoord(pos_2_x * u.arcsec, pos_2_y * u.arcsec, frame=swap_map.coordinate_frame)\n",
    "    swap_submap = swap_map.submap(bottom_left, top_right=top_right)\n",
    "\n",
    "    fig = plt.figure()\n",
    "    ax = fig.add_subplot(projection=swap_submap)\n",
    "    image = swap_submap.plot(axes=ax)\n",
    "    swap_submap.draw_limb(axes=ax)\n",
    "    swap_submap.draw_grid(axes=ax)\n",
    "\n",
    "    # Make some room and put the title at the top of the figure\n",
    "    ax.set_position([0.1, 0.1, 0.8, 0.7])\n",
    "    ax.set_title(\"Gráfico del sol\", pad=45)\n",
    "    \n",
    "    plt.show()\n",
    "\n",
    "graf = interactive_output(graficar_sol, {\"x\" : w6, \"y\" : w7})"
   ]
  },
  {
   "cell_type": "code",
   "execution_count": 17,
   "metadata": {},
   "outputs": [
    {
     "data": {
      "application/vnd.jupyter.widget-view+json": {
       "model_id": "360c8c5651e549f19a96f950957cbd65",
       "version_major": 2,
       "version_minor": 0
      },
      "text/plain": [
       "GridspecLayout(children=(Output(layout=Layout(grid_area='widget001', justify_content='center'), outputs=({'out…"
      ]
     },
     "execution_count": 17,
     "metadata": {},
     "output_type": "execute_result"
    }
   ],
   "source": [
    "grid = widgets.GridspecLayout(n_rows = 12, n_columns = 3, grid_gap = \"2px\")\n",
    "grid[0,:] = Title\n",
    "grid[1,2] = gui2\n",
    "grid[2,2] = info\n",
    "grid[3:,2] = foto\n",
    "#grid[3:,2] = graf\n",
    "\n",
    "for i in range(len(ns)):\n",
    "    grid[i+1,0] = ns[i]\n",
    "    grid[i+1,1] = ws[i]\n",
    "     \n",
    "grid"
   ]
  }
 ],
 "metadata": {
  "kernelspec": {
   "display_name": "Python 3 (ipykernel)",
   "language": "python",
   "name": "python3"
  },
  "language_info": {
   "codemirror_mode": {
    "name": "ipython",
    "version": 3
   },
   "file_extension": ".py",
   "mimetype": "text/x-python",
   "name": "python",
   "nbconvert_exporter": "python",
   "pygments_lexer": "ipython3",
   "version": "3.11.5"
  }
 },
 "nbformat": 4,
 "nbformat_minor": 2
}
